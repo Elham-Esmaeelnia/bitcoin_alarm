{
 "cells": [
  {
   "cell_type": "code",
   "execution_count": null,
   "id": "f215cf2c",
   "metadata": {},
   "outputs": [],
   "source": [
    "#bitcoin alarm project"
   ]
  },
  {
   "cell_type": "code",
   "execution_count": 1,
   "id": "d8aea5f2",
   "metadata": {},
   "outputs": [
    {
     "name": "stdout",
     "output_type": "stream",
     "text": [
      "Collecting cryptocompare\n",
      "  Downloading cryptocompare-0.7.6.tar.gz (6.0 kB)\n",
      "Requirement already satisfied: requests in c:\\users\\98911\\anaconda3\\lib\\site-packages (from cryptocompare) (2.27.1)\n",
      "Requirement already satisfied: charset-normalizer~=2.0.0 in c:\\users\\98911\\anaconda3\\lib\\site-packages (from requests->cryptocompare) (2.0.4)\n",
      "Requirement already satisfied: idna<4,>=2.5 in c:\\users\\98911\\anaconda3\\lib\\site-packages (from requests->cryptocompare) (3.3)\n",
      "Requirement already satisfied: urllib3<1.27,>=1.21.1 in c:\\users\\98911\\anaconda3\\lib\\site-packages (from requests->cryptocompare) (1.26.9)\n",
      "Requirement already satisfied: certifi>=2017.4.17 in c:\\users\\98911\\anaconda3\\lib\\site-packages (from requests->cryptocompare) (2021.10.8)\n",
      "Building wheels for collected packages: cryptocompare\n",
      "  Building wheel for cryptocompare (setup.py): started\n",
      "  Building wheel for cryptocompare (setup.py): finished with status 'done'\n",
      "  Created wheel for cryptocompare: filename=cryptocompare-0.7.6-py3-none-any.whl size=6302 sha256=ee91cf58b9f3db98cb4faa3c0cc4a965eda27b97ac2e20330084fac3a1b5b3a4\n",
      "  Stored in directory: c:\\users\\98911\\appdata\\local\\pip\\cache\\wheels\\2d\\12\\b4\\583c3e2ba3d1332db7ff08d0aca4d08d17b69ed1e53fc3d5f9\n",
      "Successfully built cryptocompare\n",
      "Installing collected packages: cryptocompare\n",
      "Successfully installed cryptocompare-0.7.6\n"
     ]
    }
   ],
   "source": [
    "!pip install cryptocompare"
   ]
  },
  {
   "cell_type": "code",
   "execution_count": 2,
   "id": "65b43d53",
   "metadata": {},
   "outputs": [
    {
     "name": "stdout",
     "output_type": "stream",
     "text": [
      "26999.96\n"
     ]
    }
   ],
   "source": [
    "import cryptocompare\n",
    "print(cryptocompare.get_price('BTC', currency='USD')['BTC']['USD'])"
   ]
  },
  {
   "cell_type": "code",
   "execution_count": 3,
   "id": "78080308",
   "metadata": {},
   "outputs": [
    {
     "name": "stdout",
     "output_type": "stream",
     "text": [
      "Collecting pygame\n",
      "  Downloading pygame-2.5.2-cp39-cp39-win_amd64.whl (10.8 MB)\n",
      "Installing collected packages: pygame\n",
      "Successfully installed pygame-2.5.2\n"
     ]
    }
   ],
   "source": [
    "!pip install pygame"
   ]
  },
  {
   "cell_type": "code",
   "execution_count": 6,
   "id": "9bbdf6aa",
   "metadata": {},
   "outputs": [],
   "source": [
    "#import pygame\n",
    "#from pygame.locals import *\n",
    "from pygame import mixer\n",
    "#pygame.init()\n",
    "mixer.init()\n",
    "mixer.music.load('alarm.mp3')\n",
    "mixer.music.play()"
   ]
  },
  {
   "cell_type": "code",
   "execution_count": 9,
   "id": "6d785fa7",
   "metadata": {},
   "outputs": [
    {
     "name": "stdout",
     "output_type": "stream",
     "text": [
      "Collecting pyttsx3\n",
      "  Downloading pyttsx3-2.90-py3-none-any.whl (39 kB)\n",
      "Requirement already satisfied: comtypes in c:\\users\\98911\\anaconda3\\lib\\site-packages (from pyttsx3) (1.1.10)\n",
      "Requirement already satisfied: pywin32 in c:\\users\\98911\\anaconda3\\lib\\site-packages (from pyttsx3) (302)\n",
      "Collecting pypiwin32\n",
      "  Downloading pypiwin32-223-py3-none-any.whl (1.7 kB)\n",
      "Installing collected packages: pypiwin32, pyttsx3\n",
      "Successfully installed pypiwin32-223 pyttsx3-2.90\n"
     ]
    }
   ],
   "source": [
    "!pip install pyttsx3"
   ]
  },
  {
   "cell_type": "code",
   "execution_count": 10,
   "id": "32158854",
   "metadata": {},
   "outputs": [],
   "source": [
    "import pyttsx3\n",
    "engine = pyttsx3.init()\n",
    "engine.say(\"btc is 19100\")\n",
    "engine.runAndWait()"
   ]
  },
  {
   "cell_type": "code",
   "execution_count": 12,
   "id": "90ea3d79",
   "metadata": {},
   "outputs": [
    {
     "name": "stdout",
     "output_type": "stream",
     "text": [
      "enter down threshold: 19000\n",
      "enter up threshold: 19100\n",
      "enter threshold: 19050\n",
      "btc went high 27079.73\n",
      "btc went low 27079.3\n",
      "btc went high 27079.3\n",
      "btc went low 27079.3\n",
      "btc went high 27079.19\n",
      "btc went low 27079.72\n"
     ]
    },
    {
     "name": "stderr",
     "output_type": "stream",
     "text": [
      "Exception ignored in: <function BSTR.__del__ at 0x000002B3545F3B80>\n",
      "Traceback (most recent call last):\n",
      "  File \"C:\\Users\\98911\\anaconda3\\lib\\site-packages\\comtypes\\__init__.py\", line 999, in __del__\n",
      "    def __del__(self, _free=windll.oleaut32.SysFreeString):\n",
      "KeyboardInterrupt: \n"
     ]
    },
    {
     "ename": "KeyboardInterrupt",
     "evalue": "",
     "output_type": "error",
     "traceback": [
      "\u001b[1;31m---------------------------------------------------------------------------\u001b[0m",
      "\u001b[1;31mKeyboardInterrupt\u001b[0m                         Traceback (most recent call last)",
      "Input \u001b[1;32mIn [12]\u001b[0m, in \u001b[0;36m<cell line: 15>\u001b[1;34m()\u001b[0m\n\u001b[0;32m     35\u001b[0m \u001b[38;5;28;01melse\u001b[39;00m:\n\u001b[0;32m     36\u001b[0m     \u001b[38;5;28mprint\u001b[39m(thresh_down,\u001b[38;5;124m\"\u001b[39m\u001b[38;5;124m<\u001b[39m\u001b[38;5;124m\"\u001b[39m,btc_price,\u001b[38;5;124m\"\u001b[39m\u001b[38;5;124m<\u001b[39m\u001b[38;5;124m\"\u001b[39m,thresh_up)\n\u001b[1;32m---> 37\u001b[0m \u001b[43msleep\u001b[49m\u001b[43m(\u001b[49m\u001b[38;5;241;43m5\u001b[39;49m\u001b[43m)\u001b[49m\n",
      "\u001b[1;31mKeyboardInterrupt\u001b[0m: "
     ]
    }
   ],
   "source": [
    "\n",
    "import cryptocompare\n",
    "from time import sleep\n",
    "from pygame import mixer\n",
    "import pyttsx3\n",
    "\n",
    "mixer.init()\n",
    "engine = pyttsx3.init()\n",
    "\n",
    "thresh_down = int(input(\"enter down threshold: \"))\n",
    "thresh_up = int(input(\"enter up threshold: \"))\n",
    "threshold = int(input(\"enter threshold: \"))\n",
    "\n",
    "\n",
    "while True:\n",
    "    btc_price = cryptocompare.get_price('BTC',currency='USD')[\"BTC\"][\"USD\"]\n",
    "    if btc_price < thresh_down :\n",
    "        print(\"btc went low\", btc_price)\n",
    "        # create an alarm for warning\n",
    "        thresh_up -= threshold\n",
    "        thresh_down -= threshold\n",
    "        mixer.music.load('alarm.mp3')\n",
    "        mixer.music.play()\n",
    "        engine.say(\"btc is {}\".format(btc_price))\n",
    "        engine.runAndWait()\n",
    "        \n",
    "    elif btc_price > thresh_up:\n",
    "        print(\"btc went high\",btc_price)\n",
    "        # create an info for up price\n",
    "        thresh_up = thresh_up + threshold\n",
    "        thresh_down += threshold\n",
    "        mixer.music.load('alarm.mp3')\n",
    "        mixer.music.play()\n",
    "        engine.say(\"btc is {}\".format(btc_price))\n",
    "        engine.runAndWait()\n",
    "    else:\n",
    "        print(thresh_down,\"<\",btc_price,\"<\",thresh_up)\n",
    "    sleep(5)\n",
    "  "
   ]
  },
  {
   "cell_type": "code",
   "execution_count": null,
   "id": "b2215f00",
   "metadata": {},
   "outputs": [],
   "source": []
  }
 ],
 "metadata": {
  "kernelspec": {
   "display_name": "Python 3 (ipykernel)",
   "language": "python",
   "name": "python3"
  },
  "language_info": {
   "codemirror_mode": {
    "name": "ipython",
    "version": 3
   },
   "file_extension": ".py",
   "mimetype": "text/x-python",
   "name": "python",
   "nbconvert_exporter": "python",
   "pygments_lexer": "ipython3",
   "version": "3.9.12"
  }
 },
 "nbformat": 4,
 "nbformat_minor": 5
}
